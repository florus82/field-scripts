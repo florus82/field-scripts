{
 "cells": [
  {
   "cell_type": "code",
   "execution_count": null,
   "metadata": {},
   "outputs": [
    {
     "ename": "AttributeError",
     "evalue": "'list' object has no attribute 'shape'",
     "output_type": "error",
     "traceback": [
      "\u001b[0;31m---------------------------------------------------------------------------\u001b[0m",
      "\u001b[0;31mAttributeError\u001b[0m                            Traceback (most recent call last)",
      "Cell \u001b[0;32mIn[3], line 29\u001b[0m\n\u001b[1;32m     26\u001b[0m train_dataset \u001b[38;5;241m=\u001b[39m RocksDBDataset(\u001b[38;5;124m'\u001b[39m\u001b[38;5;124m/home/output/rocks_db/AT.db/train.db\u001b[39m\u001b[38;5;124m'\u001b[39m)\n\u001b[1;32m     27\u001b[0m \u001b[38;5;66;03m# train_loader = DataLoader(dataset=train_dataset, batch_size=2, shuffle=False, num_workers=4, pin_memory=True)\u001b[39;00m\n\u001b[0;32m---> 29\u001b[0m \u001b[38;5;28mprint\u001b[39m(\u001b[43mtrain_dataset\u001b[49m\u001b[43m[\u001b[49m\u001b[38;5;241;43m0\u001b[39;49m\u001b[43m]\u001b[49m\u001b[38;5;241;43m.\u001b[39;49m\u001b[43mshape\u001b[49m)\n",
      "\u001b[0;31mAttributeError\u001b[0m: 'list' object has no attribute 'shape'"
     ]
    }
   ],
   "source": [
    "%matplotlib inline\n",
    "import numpy as np\n",
    "import rasterio, glob, xarray as xr\n",
    "import os,sys\n",
    "import albumentations as A\n",
    "from albumentations.core.transforms_interface import  ImageOnlyTransform\n",
    "import torch\n",
    "from torch.utils.data import Dataset\n",
    "import matplotlib.pyplot as plt\n",
    "sys.path.append(r'/home/repos')\n",
    "from torch.utils.data import DataLoader                                                                                 \n",
    "from tfcl.models.ptavit3d.ptavit3d_dn import ptavit3d_dn       \n",
    "from tfcl.nn.loss.ftnmt_loss import ftnmt_loss               \n",
    "from tfcl.utils.classification_metric import Classification  \n",
    "from datetime import datetime   \n",
    "from tqdm import tqdm\n",
    "from torch.amp import autocast, GradScaler\n",
    "import pandas as pd\n",
    "import random\n",
    "from rocksdbutils import * \n",
    "\n",
    "# Set this to False for training\n",
    "#DEBUG=True\n",
    "DEBUG=False\n",
    "\n",
    "train_dataset = RocksDBDataset('/home/output/rocks_db/AT.db/train.db')\n",
    "# train_loader = DataLoader(dataset=train_dataset, batch_size=2, shuffle=False, num_workers=4, pin_memory=True)\n",
    "\n",
    "\n",
    "\n"
   ]
  }
 ],
 "metadata": {
  "kernelspec": {
   "display_name": "Python 3",
   "language": "python",
   "name": "python3"
  },
  "language_info": {
   "codemirror_mode": {
    "name": "ipython",
    "version": 3
   },
   "file_extension": ".py",
   "mimetype": "text/x-python",
   "name": "python",
   "nbconvert_exporter": "python",
   "pygments_lexer": "ipython3",
   "version": "3.10.12"
  }
 },
 "nbformat": 4,
 "nbformat_minor": 2
}
