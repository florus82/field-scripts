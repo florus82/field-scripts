{
 "cells": [
  {
   "cell_type": "code",
   "execution_count": 1,
   "metadata": {},
   "outputs": [
    {
     "ename": "ModuleNotFoundError",
     "evalue": "No module named 'helpsters'",
     "output_type": "error",
     "traceback": [
      "\u001b[0;31m---------------------------------------------------------------------------\u001b[0m",
      "\u001b[0;31mModuleNotFoundError\u001b[0m                       Traceback (most recent call last)",
      "Cell \u001b[0;32mIn[1], line 3\u001b[0m\n\u001b[1;32m      1\u001b[0m \u001b[38;5;28;01mimport\u001b[39;00m \u001b[38;5;21;01msys\u001b[39;00m\n\u001b[1;32m      2\u001b[0m sys\u001b[38;5;241m.\u001b[39mpath\u001b[38;5;241m.\u001b[39mappend(\u001b[38;5;124m'\u001b[39m\u001b[38;5;124m../../evapo_scripts/Auxiliary/\u001b[39m\u001b[38;5;124m'\u001b[39m)\n\u001b[0;32m----> 3\u001b[0m \u001b[38;5;28;01mfrom\u001b[39;00m \u001b[38;5;21;01mhelpsters\u001b[39;00m \u001b[38;5;28;01mimport\u001b[39;00m \u001b[38;5;241m*\u001b[39m\n",
      "\u001b[0;31mModuleNotFoundError\u001b[0m: No module named 'helpsters'"
     ]
    }
   ],
   "source": [
    "import sys\n",
    "sys.path.append('../../evapo_scripts/Auxiliary/')\n",
    "from helpsters import *"
   ]
  },
  {
   "cell_type": "code",
   "execution_count": null,
   "metadata": {},
   "outputs": [],
   "source": [
    "\n",
    "# get rid of force output that is not needed -> months outside of growing season that do not exist in AI4Boundaries\n",
    "files = getFilelist('/data/force/output/BRANDENBURG/', '.tif', deep=True)\n",
    "\n",
    "filesToKill = [f for f in files if int(f.split('-')[-1].split('.')[0]) not in [i for i in range(3,9,1)]]\n",
    "for file in filesToKill:\n",
    "    RasterKiller(file)\n",
    "\n",
    "files = list(filter(lambda item: item not in filesToKill, files))"
   ]
  },
  {
   "cell_type": "code",
   "execution_count": null,
   "metadata": {},
   "outputs": [],
   "source": [
    "# bring files in list in order\n",
    "tiles = list(set([file.split('output/')[-1].split('/')[1].split('/')[0] for file in files]))\n",
    "\n",
    "# subset for test!!!!!!!!!!!!!!!!\n",
    "tiles = ['X0068_Y0042','X0069_Y0042']\n",
    "####################################\n",
    "\n",
    "\n",
    "tilefilesL = []\n",
    "for tile in tiles:\n",
    "    tilefiles = [file for file in files if tile in file]\n",
    "    tilefilesL.append(getBluGrnRedBnrFORCEList(tilefiles))\n",
    "\n",
    "# create stacked vrts of tiles\n",
    "# make folder for tiles\n",
    "outDir = f'/data/fields/Auxiliary/vrt/{getFORCExyRange(tiles)}/'\n",
    "os.makedirs(outDir, exist_ok=True)\n",
    "\n",
    "for i in range(len(tilefilesL[0])):\n",
    "    vrt = gdal.BuildVRT(f'{outDir}{getFORCExyRange(tiles)}_{str(i)}.vrt', [tilefile[i] for tilefile in tilefilesL], separate = False)\n",
    "    vrt = None\n",
    "\n",
    "# make paths in vrts relative\n",
    "vrts = getFilelist(outDir, '.vrt')\n",
    "for vrt in vrts:\n",
    "    convertVRTpathsTOrelative(vrt)\n",
    "nums = [int(vrt.split('_')[-1].split('.')[0]) for vrt in vrts]\n",
    "vrts_sorted = sortListwithOtherlist(nums, vrts)[-1]\n",
    "\n",
    "vrt = gdal.BuildVRT(f'{outDir}{getFORCExyRange(tiles)}_Cube.vrt', vrts_sorted, separate = True)\n",
    "vrt = None\n",
    "convertVRTpathsTOrelative(f'{outDir}{getFORCExyRange(tiles)}_Cube.vrt')"
   ]
  },
  {
   "cell_type": "code",
   "execution_count": null,
   "metadata": {},
   "outputs": [],
   "source": [
    "# make vrt of predicted image chips\n",
    "size = str(128*2)\n",
    "over = str(20)\n",
    "chips = getFilelist('/data/fields/output/predictions/FORCE/BRANDENBURG/chips/', '.tif')\n",
    "chips = [chip for chip in chips if size in chip and over in chip]\n",
    "\n",
    "for c in chips:print(c)\n",
    "# create stacked vrts of chips\n",
    "vrt = gdal.BuildVRT(f'/data/fields/output/predictions/FORCE/BRANDENBURG/vrt/{size}_{over}_chipsvrt.vrt', chips, separate = False)\n",
    "vrt = None\n",
    "convertVRTpathsTOrelative(f'/data/fields/output/predictions/FORCE/BRANDENBURG/vrt/{size}_{over}_chipsvrt.vrt')\n"
   ]
  },
  {
   "cell_type": "code",
   "execution_count": null,
   "metadata": {},
   "outputs": [],
   "source": [
    "# make vrt of masked predicted image chips\n",
    "chips = getFilelist('/data/fields/output/predictions/FORCE/BRANDENBURG/masked_chips/', '.tif')\n",
    "chips = [chip for chip in chips if size in chip and over in chip]\n",
    "# create stacked vrts of masked chips\n",
    "vrt = gdal.BuildVRT(f'/data/fields/output/predictions/FORCE/BRANDENBURG/vrt/{size}_{over}_masked_chipsvrt.vrt', chips, separate = False)\n",
    "vrt = None\n",
    "convertVRTpathsTOrelative(f'/data/fields/output/predictions/FORCE/BRANDENBURG/vrt/{size}_{over}_masked_chipsvrt.vrt')\n"
   ]
  },
  {
   "cell_type": "code",
   "execution_count": null,
   "metadata": {},
   "outputs": [],
   "source": [
    "vrtPyramids(f'/data/fields/output/predictions/FORCE/BRANDENBURG/vrt/{size}_{over}_chipsvrt.vrt')\n",
    "vrtPyramids(f'/data/fields/output/predictions/FORCE/BRANDENBURG/vrt/{size}_{over}_masked_chipsvrt.vrt')"
   ]
  }
 ],
 "metadata": {
  "kernelspec": {
   "display_name": "Python 3",
   "language": "python",
   "name": "python3"
  },
  "language_info": {
   "codemirror_mode": {
    "name": "ipython",
    "version": 3
   },
   "file_extension": ".py",
   "mimetype": "text/x-python",
   "name": "python",
   "nbconvert_exporter": "python",
   "pygments_lexer": "ipython3",
   "version": "3.10.12"
  }
 },
 "nbformat": 4,
 "nbformat_minor": 2
}
