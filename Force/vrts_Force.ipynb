{
 "cells": [
  {
   "cell_type": "code",
   "execution_count": null,
   "metadata": {},
   "outputs": [],
   "source": [
    "# make vrt of predicted image chips\n",
    "size = str(128*2)\n",
    "over = str(20)\n",
    "chips = getFilelist('/data/fields/output/predictions/FORCE/BRANDENBURG/chips/', '.tif')\n",
    "chips = [chip for chip in chips if size in chip and over in chip]\n",
    "\n",
    "for c in chips:print(c)\n",
    "# create stacked vrts of chips\n",
    "vrt = gdal.BuildVRT(f'/data/fields/output/predictions/FORCE/BRANDENBURG/vrt/{size}_{over}_chipsvrt.vrt', chips, separate = False)\n",
    "vrt = None\n",
    "convertVRTpathsTOrelative(f'/data/fields/output/predictions/FORCE/BRANDENBURG/vrt/{size}_{over}_chipsvrt.vrt')\n"
   ]
  },
  {
   "cell_type": "code",
   "execution_count": null,
   "metadata": {},
   "outputs": [],
   "source": [
    "# make vrt of masked predicted image chips\n",
    "chips = getFilelist('/data/fields/output/predictions/FORCE/BRANDENBURG/masked_chips/', '.tif')\n",
    "chips = [chip for chip in chips if size in chip and over in chip]\n",
    "# create stacked vrts of masked chips\n",
    "vrt = gdal.BuildVRT(f'/data/fields/output/predictions/FORCE/BRANDENBURG/vrt/{size}_{over}_masked_chipsvrt.vrt', chips, separate = False)\n",
    "vrt = None\n",
    "convertVRTpathsTOrelative(f'/data/fields/output/predictions/FORCE/BRANDENBURG/vrt/{size}_{over}_masked_chipsvrt.vrt')\n"
   ]
  },
  {
   "cell_type": "code",
   "execution_count": null,
   "metadata": {},
   "outputs": [],
   "source": [
    "# build pyramids\n",
    "vrtPyramids(f'/data/fields/output/predictions/FORCE/BRANDENBURG/vrt/{size}_{over}_chipsvrt.vrt')\n",
    "vrtPyramids(f'/data/fields/output/predictions/FORCE/BRANDENBURG/vrt/{size}_{over}_masked_chipsvrt.vrt')"
   ]
  }
 ],
 "metadata": {
  "kernelspec": {
   "display_name": "Python 3",
   "language": "python",
   "name": "python3"
  },
  "language_info": {
   "codemirror_mode": {
    "name": "ipython",
    "version": 3
   },
   "file_extension": ".py",
   "mimetype": "text/x-python",
   "name": "python",
   "nbconvert_exporter": "python",
   "pygments_lexer": "ipython3",
   "version": "3.10.12"
  }
 },
 "nbformat": 4,
 "nbformat_minor": 2
}
