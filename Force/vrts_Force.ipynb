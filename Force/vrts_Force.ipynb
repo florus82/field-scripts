{
 "cells": [
  {
   "cell_type": "code",
   "execution_count": null,
   "metadata": {},
   "outputs": [],
   "source": [
    "import sys\n",
    "sys.path.append('../../evapo_scripts/Auxiliary/')\n",
    "from helpsters import *"
   ]
  },
  {
   "cell_type": "code",
   "execution_count": null,
   "metadata": {},
   "outputs": [],
   "source": [
    "# workaround with relative path mess from containers\n",
    "os.chdir('/data/Aldhani/eoagritwin/')\n",
    "# get rid of force output that is not needed -> months outside of growing season that do not exist in AI4Boundaries\n",
    "files = getFilelist('/data/Aldhani/eoagritwin/force/output/BRANDENBURG/', '.tif', deep=True)\n",
    "\n",
    "filesToKill = [f for f in files if int(f.split('-')[-1].split('.')[0]) not in [i for i in range(3,9,1)]]\n",
    "for file in filesToKill:\n",
    "    RasterKiller(file)\n",
    "\n",
    "files = list(filter(lambda item: item not in filesToKill, files))"
   ]
  },
  {
   "cell_type": "code",
   "execution_count": null,
   "metadata": {},
   "outputs": [],
   "source": [
    "# bring files in list in order\n",
    "tiles = list(set([file.split('output/')[-1].split('/')[1].split('/')[0] for file in files]))\n",
    "\n",
    "# subset for test!!!!!!!!!!!!!!!!\n",
    "tiles = ['X0068_Y0042','X0069_Y0042']\n",
    "####################################\n",
    "\n",
    "\n",
    "tilefilesL = []\n",
    "for tile in tiles:\n",
    "    tilefiles = [file for file in files if tile in file]\n",
    "    tilefilesL.append(getBluGrnRedBnrFORCEList(tilefiles))\n",
    "\n",
    "# create stacked vrts of tiles\n",
    "# make folder for tiles\n",
    "outDir = f'/data/Aldhani/eoagritwin/fields/Auxiliary/vrt/{getFORCExyRange(tiles)}/'\n",
    "os.makedirs(outDir, exist_ok=True)\n",
    "\n",
    "for i in range(len(tilefilesL[0])):\n",
    "    vrt = gdal.BuildVRT(f'{outDir}{getFORCExyRange(tiles)}_{str(i)}.vrt', [tilefile[i] for tilefile in tilefilesL], separate = False)\n",
    "    vrt = None\n",
    "\n",
    "# make paths in vrts relative\n",
    "vrts = getFilelist(outDir, '.vrt')\n",
    "for vrt in vrts:\n",
    "    convertVRTpathsTOrelative(vrt)\n",
    "nums = [int(vrt.split('_')[-1].split('.')[0]) for vrt in vrts]\n",
    "vrts_sorted = sortListwithOtherlist(nums, vrts)[-1]\n",
    "\n",
    "vrt = gdal.BuildVRT(f'{outDir}{getFORCExyRange(tiles)}_Cube.vrt', vrts_sorted, separate = True)\n",
    "vrt = None\n",
    "convertVRTpathsTOrelative(f'{outDir}{getFORCExyRange(tiles)}_Cube.vrt')"
   ]
  },
  {
   "cell_type": "code",
   "execution_count": null,
   "metadata": {},
   "outputs": [],
   "source": [
    "# make vrt of predicted image chips\n",
    "size = str(128*2)\n",
    "over = str(20)\n",
    "chips = getFilelist('/data/Aldhani/eoagritwin/fields/output/predictions/FORCE/chips/', '.tif')\n",
    "chips = [chip for chip in chips if size in chip and over in chip]\n",
    "\n",
    "for c in chips:print(c)\n",
    "# create stacked vrts of chips\n",
    "vrt = gdal.BuildVRT(f'/data/Aldhani/eoagritwin/fields/output/predictions/FORCE/vrt/{size}_{over}_chipsvrt.vrt', chips, separate = False)\n",
    "vrt = None\n",
    "convertVRTpathsTOrelative(f'/data/Aldhani/eoagritwin/fields/output/predictions/FORCE/vrt/{size}_{over}_chipsvrt.vrt')\n"
   ]
  },
  {
   "cell_type": "code",
   "execution_count": null,
   "metadata": {},
   "outputs": [],
   "source": [
    "# make vrt of masked predicted image chips\n",
    "chips = getFilelist('/data/Aldhani/eoagritwin/fields/output/predictions/FORCE/masked_chips/', '.tif')\n",
    "chips = [chip for chip in chips if size in chip and over in chip]\n",
    "# create stacked vrts of masked chips\n",
    "vrt = gdal.BuildVRT(f'/data/Aldhani/eoagritwin/fields/output/predictions/FORCE/vrt/{size}_{over}_masked_chipsvrt.vrt', chips, separate = False)\n",
    "vrt = None\n",
    "convertVRTpathsTOrelative(f'/data/Aldhani/eoagritwin/fields/output/predictions/FORCE/vrt/{size}_{over}_masked_chipsvrt.vrt')\n"
   ]
  },
  {
   "cell_type": "code",
   "execution_count": 41,
   "metadata": {},
   "outputs": [
    {
     "name": "stdout",
     "output_type": "stream",
     "text": [
      "(4, 6, 10, 10)\n",
      "1280.0\n",
      "1.1729145\n"
     ]
    }
   ],
   "source": [
    "mean_s2 = np.array([5.4418573e+02, 7.6761194e+02, 7.1712860e+02, 2.8561428e+03 ]).astype(np.float32) \n",
    "std_s2  = np.array( [3.7141626e+02, 3.8981952e+02, 4.7989127e+02 ,9.5173022e+02]).astype(np.float32) \n",
    "\n",
    "d1 = np.asarray([i for i in range(4*6*10*10)]).astype(np.float32)\n",
    "temp = d1.reshape(4,6,10,10)\n",
    "print(temp.shape)\n",
    "print(temp[2,0,8,0])\n",
    "temp2 = temp.T\n",
    "\n",
    "temp2 -= mean_s2\n",
    "\n",
    "temp2 /= std_s2\n",
    "\n",
    "temp = temp2.T\n",
    "\n",
    "print(temp[2,0,8,0])\n"
   ]
  },
  {
   "cell_type": "code",
   "execution_count": 42,
   "metadata": {},
   "outputs": [
    {
     "data": {
      "text/plain": [
       "np.float32(1.1729145)"
      ]
     },
     "execution_count": 42,
     "metadata": {},
     "output_type": "execute_result"
    }
   ],
   "source": [
    "(1280-mean_s2[2])/std_s2[2]"
   ]
  }
 ],
 "metadata": {
  "kernelspec": {
   "display_name": "workhorse",
   "language": "python",
   "name": "python3"
  },
  "language_info": {
   "codemirror_mode": {
    "name": "ipython",
    "version": 3
   },
   "file_extension": ".py",
   "mimetype": "text/x-python",
   "name": "python",
   "nbconvert_exporter": "python",
   "pygments_lexer": "ipython3",
   "version": "3.12.9"
  }
 },
 "nbformat": 4,
 "nbformat_minor": 2
}
