{
 "cells": [
  {
   "cell_type": "code",
   "execution_count": 2,
   "id": "aa0b222b",
   "metadata": {},
   "outputs": [],
   "source": [
    "import sys\n",
    "sys.path.append('/home/potzschf/repos/')\n",
    "from helperToolz.helpsters import *"
   ]
  },
  {
   "cell_type": "code",
   "execution_count": null,
   "id": "a4340c91",
   "metadata": {},
   "outputs": [
    {
     "name": "stdout",
     "output_type": "stream",
     "text": [
      "0\n",
      "1\n",
      "2\n",
      "0\n",
      "1\n",
      "2\n"
     ]
    }
   ],
   "source": [
    "# load the vrts\n",
    "predictions =  '/data/Aldhani/eoagritwin/fields/output/predictions/FORCE/BRANDENBURG/vrt/256_20_chips.vrt'\n",
    "ds = gdal.Open(predictions)\n",
    "\n",
    "for reference in ['/data/Aldhani/eoagritwin/fields/IACS/4_Crop_mask/GSA-DE_BRB-2019_cropMask_lines_touch_true_lines_touch_true_linecrop_prediction_extent.tif',\n",
    "                  '/data/Aldhani/eoagritwin/fields/IACS/4_Crop_mask/GSA-DE_BRB-2019_cropMask_lines_touch_false_lines_touch_false_linecrop_prediction_extent.tif']:\n",
    "\n",
    "    arrs = []\n",
    "    ds_mask = gdal.Open(reference)\n",
    "    mask = ds_mask.GetRasterBand(1).ReadAsArray()\n",
    "    \n",
    "    for i in range(3):\n",
    "        print(i)\n",
    "        arr = ds.GetRasterBand(i + 1).ReadAsArray()\n",
    "\n",
    "        arrs.append(arr * mask)\n",
    "    \n",
    "    arr = np.dstack(arrs)\n",
    "\n",
    "    # export masked array\n",
    "    out_name = predictions.split('/')[-1].split('.')[0] + '_' + reference.split('/')[-1]\n",
    "\n",
    "    gtiff_driver = gdal.GetDriverByName('GTiff')\n",
    "    out_ds = gtiff_driver.Create('/data/Aldhani/eoagritwin/fields/output/predictions/FORCE/BRANDENBURG/masked_predictions/' + out_name, \n",
    "                                 ds.RasterXSize, ds.RasterYSize, 3, gdal.GDT_Float32)\n",
    "    out_ds.SetGeoTransform(ds.GetGeoTransform())\n",
    "    out_ds.SetProjection(ds.GetProjection())   \n",
    "    for i in range(3):          \n",
    "        out_ds.GetRasterBand(i + 1).WriteArray(arr[:,:,i])\n",
    "    del out_ds\n",
    "\n",
    "\n",
    "\n",
    "\n"
   ]
  },
  {
   "cell_type": "code",
   "execution_count": 3,
   "id": "9ee5bb95",
   "metadata": {},
   "outputs": [
    {
     "name": "stderr",
     "output_type": "stream",
     "text": [
      "/home/potzschf/mambaforge/envs/workhorse/lib/python3.12/site-packages/osgeo/gdal.py:311: FutureWarning: Neither gdal.UseExceptions() nor gdal.DontUseExceptions() has been explicitly called. In GDAL 4.0, exceptions will be enabled by default.\n",
      "  warnings.warn(\n"
     ]
    }
   ],
   "source": [
    "predictions =  '/data/Aldhani/eoagritwin/fields/output/predictions/FORCE/BRANDENBURG/vrt/256_20_chips.vrt'\n",
    "for reference in ['/data/Aldhani/eoagritwin/fields/IACS/4_Crop_mask/GSA-DE_BRB-2019_cropMask_lines_touch_true_lines_touch_true_linecrop_prediction_extent.tif',\n",
    "                  '/data/Aldhani/eoagritwin/fields/IACS/4_Crop_mask/GSA-DE_BRB-2019_cropMask_lines_touch_false_lines_touch_false_linecrop_prediction_extent.tif']:\n",
    "    out_name = predictions.split('/')[-1].split('.')[0] + '_' + reference.split('/')[-1]\n",
    "    vrtPyramids('/data/Aldhani/eoagritwin/fields/output/predictions/FORCE/BRANDENBURG/masked_predictions/' + out_name)"
   ]
  }
 ],
 "metadata": {
  "kernelspec": {
   "display_name": "workhorse",
   "language": "python",
   "name": "python3"
  },
  "language_info": {
   "codemirror_mode": {
    "name": "ipython",
    "version": 3
   },
   "file_extension": ".py",
   "mimetype": "text/x-python",
   "name": "python",
   "nbconvert_exporter": "python",
   "pygments_lexer": "ipython3",
   "version": "3.12.9"
  }
 },
 "nbformat": 4,
 "nbformat_minor": 5
}
