{
 "cells": [
  {
   "cell_type": "code",
   "execution_count": 1,
   "id": "e7f094f3",
   "metadata": {},
   "outputs": [],
   "source": [
    "import sys\n",
    "sys.path.append('/home/potzschf/repos/')\n",
    "from helperToolz.helpsters import *\n",
    "import shutil"
   ]
  },
  {
   "cell_type": "code",
   "execution_count": 2,
   "id": "d52466c3",
   "metadata": {},
   "outputs": [
    {
     "name": "stdout",
     "output_type": "stream",
     "text": [
      "Searching for bad files in year 2018\n",
      "Searching for bad files in year 2019\n",
      "Searching for bad files in year 2020\n",
      "No files found for the year 2020\n",
      "Searching for bad files in year 2021\n",
      "No files found for the year 2021\n",
      "Searching for bad files in year 2022\n",
      "No files found for the year 2022\n",
      "Searching for bad files in year 2023\n",
      "Searching for bad files in year 2024\n"
     ]
    }
   ],
   "source": [
    "bad_files = []\n",
    "gdal.UseExceptions()\n",
    "\n",
    "forcePath = '/data/Aldhani/eoagritwin/force/output/S3/'\n",
    "years = [y for y in range(2018, 2025, 1)]\n",
    "for year in years:\n",
    "    print(f'Searching for bad files in year {year}')\n",
    "    files = getFilelist(f'{forcePath}{year}', '.tif', deep=True)\n",
    "    if not files:\n",
    "        print(f'No files found for the year {year}')\n",
    "        continue\n",
    "    else:                   \n",
    "        for file in files:\n",
    "            try:\n",
    "                ds = gdal.Open(file)\n",
    "                if ds is None:\n",
    "                    raise RuntimeError(f'There is sth wrong with {file}. You have to do it again')\n",
    "            except RuntimeError as e:\n",
    "                print(\"Caught GDAL error:\", e)\n",
    "                bad_files.append(file)\n",
    "        "
   ]
  },
  {
   "cell_type": "code",
   "execution_count": 3,
   "id": "5b00094e",
   "metadata": {},
   "outputs": [],
   "source": [
    "##### do sth with bad_files\n",
    "bad_dicts = []\n",
    "# get the x y combination\n",
    "for bad in bad_files:\n",
    "    year = bad.split('/S3/')[-1].split('/')[0]\n",
    "    x = str(int(bad.split('X')[-1].split('_')[0]))\n",
    "    y = str(int(bad.split('Y')[-1].split('/')[0]))\n",
    "\n",
    "    bad_dicts.append({'year': year, 'x': x, 'y': y})\n",
    "\n",
    "bad_dict = pd.DataFrame(bad_dicts)"
   ]
  },
  {
   "cell_type": "code",
   "execution_count": 4,
   "id": "6173a5c9",
   "metadata": {},
   "outputs": [
    {
     "data": {
      "text/html": [
       "<div>\n",
       "<style scoped>\n",
       "    .dataframe tbody tr th:only-of-type {\n",
       "        vertical-align: middle;\n",
       "    }\n",
       "\n",
       "    .dataframe tbody tr th {\n",
       "        vertical-align: top;\n",
       "    }\n",
       "\n",
       "    .dataframe thead th {\n",
       "        text-align: right;\n",
       "    }\n",
       "</style>\n",
       "<table border=\"1\" class=\"dataframe\">\n",
       "  <thead>\n",
       "    <tr style=\"text-align: right;\">\n",
       "      <th></th>\n",
       "    </tr>\n",
       "  </thead>\n",
       "  <tbody>\n",
       "  </tbody>\n",
       "</table>\n",
       "</div>"
      ],
      "text/plain": [
       "Empty DataFrame\n",
       "Columns: []\n",
       "Index: []"
      ]
     },
     "execution_count": 4,
     "metadata": {},
     "output_type": "execute_result"
    }
   ],
   "source": [
    "bad_dict\n"
   ]
  }
 ],
 "metadata": {
  "kernelspec": {
   "display_name": "workhorse",
   "language": "python",
   "name": "python3"
  },
  "language_info": {
   "codemirror_mode": {
    "name": "ipython",
    "version": 3
   },
   "file_extension": ".py",
   "mimetype": "text/x-python",
   "name": "python",
   "nbconvert_exporter": "python",
   "pygments_lexer": "ipython3",
   "version": "3.12.10"
  }
 },
 "nbformat": 4,
 "nbformat_minor": 5
}
