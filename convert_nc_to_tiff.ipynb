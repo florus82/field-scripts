{
 "cells": [
  {
   "cell_type": "code",
   "execution_count": 12,
   "metadata": {},
   "outputs": [
    {
     "name": "stdout",
     "output_type": "stream",
     "text": [
      "transform nc to tif\n"
     ]
    }
   ],
   "source": [
    "# import packages \n",
    "import xarray as xr \n",
    "import rioxarray as rio \n",
    "import os\n",
    "import numpy as np\n",
    "\n",
    "\n",
    "def getFilelist(originpath, ftyp):\n",
    "    files = os.listdir(originpath)\n",
    "    out   = []\n",
    "    for i in files:\n",
    "        if i.split('.')[-1] in ftyp:\n",
    "            if originpath.endswith('/'):\n",
    "                out.append(originpath + i)\n",
    "            else:\n",
    "                out.append(originpath + '/' + i)\n",
    "        # else:\n",
    "        #     print(\"non-matching file - {} - found\".format(i.split('.')[-1]))\n",
    "    return out\n",
    "\n",
    "\n",
    "ncs = getFilelist('/home/ai4boundaries/sentinel2/images/LU', 'nc')\n",
    "masks = getFilelist('/home/ai4boundaries/sentinel2/masks/LU', 'tif')\n",
    "\n",
    "ncs.sort()\n",
    "masks.sort()\n",
    "\n",
    "\n",
    "outFolder = '/home/output/nc_to_tif'\n",
    "\n",
    "print('transform nc to tif') \n",
    "for i in range(len(ncs)):\n",
    "    # transform images\n",
    "    nc_file = xr.open_dataset(ncs[i])\n",
    "    img = nc_file['NDVI']\n",
    "    img.rio.write_crs('epsg:3035', inplace=True)\n",
    "    img.rio.to_raster(f\"{outFolder}/img_{ncs[i].split('/')[-1].split('.')[0]}.tif\")\n",
    "\n",
    "    # transform labels\n",
    "    lb_file = xr.open_dataset(masks[i])\n",
    "    img = lb_file['band_data']\n",
    "    img.rio.write_crs('epsg:3035', inplace=True)\n",
    "    img.rio.to_raster(f\"{outFolder}/label_{ncs[i].split('/')[-1].split('.')[0]}.tif\")\n",
    "    "
   ]
  },
  {
   "cell_type": "code",
   "execution_count": 13,
   "metadata": {},
   "outputs": [
    {
     "name": "stdout",
     "output_type": "stream",
     "text": [
      "(4, 256, 256)\n",
      "(4, 256, 256)\n",
      "(4, 256, 256)\n",
      "(4, 256, 256)\n",
      "(4, 256, 256)\n",
      "(4, 256, 256)\n",
      "(4, 256, 256)\n",
      "(4, 256, 256)\n",
      "(4, 256, 256)\n",
      "(4, 256, 256)\n"
     ]
    }
   ],
   "source": [
    "# load and test\n",
    "for i in range(10):\n",
    "    a1 = xr.open_dataset(outFolder + '/test_label_' + str(i) + '.tif')\n",
    "    a2 = np.asarray(a1['band_data'].values)\n",
    "    #print(a2)\n",
    "    a2[np.isnan(a2)] = 0\n",
    "    print(a2.shape)\n",
    "\n",
    "# b1 = xr.open_dataset(outFolder + '/test_img_0.tif')\n",
    "# b2 = np.asarray(b1['band_data'].values)\n",
    "# print(b2.shape)\n",
    "# print(np.isnan(b2) == True)\n",
    "\n"
   ]
  }
 ],
 "metadata": {
  "kernelspec": {
   "display_name": "Python 3",
   "language": "python",
   "name": "python3"
  },
  "language_info": {
   "codemirror_mode": {
    "name": "ipython",
    "version": 3
   },
   "file_extension": ".py",
   "mimetype": "text/x-python",
   "name": "python",
   "nbconvert_exporter": "python",
   "pygments_lexer": "ipython3",
   "version": "3.10.12"
  }
 },
 "nbformat": 4,
 "nbformat_minor": 2
}
