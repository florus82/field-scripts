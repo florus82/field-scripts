{
 "cells": [
  {
   "cell_type": "code",
   "execution_count": 1,
   "id": "1b32dd54",
   "metadata": {},
   "outputs": [],
   "source": [
    "import sys\n",
    "sys.path.append('/home/potzschf/repos/')\n",
    "from helperToolz.helpsters import *\n",
    "from helperToolz.dicts_and_lists import *\n",
    "from helperToolz.guzinski import * \n",
    "import geopandas as gpd\n",
    "from collections import defaultdict\n",
    "from joblib import Parallel, delayed\n",
    "from datetime import datetime, timedelta\n",
    "import time\n",
    "\n",
    "path = '/data/Aldhani/eoagritwin/fields/Auxiliary/grid_search/Brandenburg/quick_n_dirty/'\n",
    "path_b2 = '/data/Aldhani/eoagritwin/fields/output/predictions/FORCE/BRANDENBURG/vrt/256_20_chips.vrt'"
   ]
  },
  {
   "cell_type": "code",
   "execution_count": 2,
   "id": "7d5aa254",
   "metadata": {},
   "outputs": [],
   "source": [
    "# load the polygons made from prediction\n",
    "path_fields = f'{path}Fields_polygons.shp'\n",
    "\n",
    "# Convert polygons to lines\n",
    "gdf = gpd.read_file(path_fields)\n",
    "\n",
    "# Ensure the geometries are polygons\n",
    "if not all(gdf.geometry.type.isin([\"Polygon\", \"MultiPolygon\"])):\n",
    "    raise ValueError(\"The file must contain Polygon or MultiPolygon geometries.\")\n",
    "\n",
    "\n",
    "gdf['geometry'] = gdf.geometry.boundary\n",
    "#export\n",
    "gdf.to_file(f'{path}median_scores/Field_lines.gpkg', driver='GPKG') "
   ]
  },
  {
   "cell_type": "code",
   "execution_count": 3,
   "id": "4a97e622",
   "metadata": {},
   "outputs": [
    {
     "name": "stderr",
     "output_type": "stream",
     "text": [
      "/data/Aldhani/users/potzschf/conda/envs/workhorse/lib/python3.12/site-packages/osgeo/ogr.py:601: FutureWarning: Neither ogr.UseExceptions() nor ogr.DontUseExceptions() has been explicitly called. In GDAL 4.0, exceptions will be enabled by default.\n",
      "  warnings.warn(\n"
     ]
    }
   ],
   "source": [
    "##### open field vector file\n",
    "field = ogr.Open(f'{path}median_scores/Field_lines.gpkg')\n",
    "field_lyr = field.GetLayer(0)\n",
    "\n",
    "output = f'{path}median_scores/FieldBorders.tif'\n",
    "\n",
    "if not os.path.exists(output):\n",
    "    ds = gdal.Open(path_b2)\n",
    "    target_ds = gdal.GetDriverByName('GTiff').Create(output, ds.RasterXSize, ds.RasterYSize, 1, gdal.GDT_UInt32)\n",
    "    target_ds.SetGeoTransform(ds.GetGeoTransform())\n",
    "    target_ds.SetProjection(ds.GetProjection())\n",
    "\n",
    "    gdal.RasterizeLayer(target_ds, [1], field_lyr, options = [\"ALL_TOUCHED=True\", \"ATTRIBUTE=FieldID\"])\n",
    "    target_ds = None"
   ]
  },
  {
   "cell_type": "code",
   "execution_count": 4,
   "id": "f167e08e",
   "metadata": {},
   "outputs": [],
   "source": [
    "# extract b2 at rasterized borders\n",
    "ds_b2 = gdal.Open(path_b2)\n",
    "arr_b2 = ds_b2.GetRasterBand(2).ReadAsArray()\n",
    "\n",
    "ds_border = gdal.Open(output)\n",
    "arr_border = ds_border.GetRasterBand(1).ReadAsArray()\n",
    "\n",
    "mask = (arr_border != 0) & (~np.isnan(arr_border)) & (~np.isnan(arr_b2))\n",
    "flat_field = arr_border[mask].astype(int)\n",
    "flat_b2 = arr_b2[mask]"
   ]
  },
  {
   "cell_type": "code",
   "execution_count": 5,
   "id": "fa11a982",
   "metadata": {},
   "outputs": [],
   "source": [
    "# Create DataFrame\n",
    "df = pd.DataFrame({'BorderID': flat_field, 'B2': flat_b2})\n",
    "\n",
    "# Compute median per field\n",
    "median_df = df.groupby('BorderID', as_index=False)['B2'].median()\n",
    "median_df.rename(columns={'B2': 'B2_median'}, inplace=True)\n",
    "median_df.to_csv('mean_b2_score_per_field.csv', index=False)"
   ]
  },
  {
   "cell_type": "code",
   "execution_count": 7,
   "id": "2539c78b",
   "metadata": {},
   "outputs": [],
   "source": [
    "# Create a lookup map\n",
    "median_map = dict(zip(median_df['BorderID'], median_df['B2_median']))\n",
    "\n",
    "# Fill raster\n",
    "arr_border_fill = np.vectorize(median_map.get)(arr_border)"
   ]
  },
  {
   "cell_type": "code",
   "execution_count": null,
   "id": "ddf5dbe0",
   "metadata": {},
   "outputs": [],
   "source": [
    "npTOdisk(arr_border_fill, output,\n",
    "         '/data/Aldhani/eoagriwin/fields/Auxiliary/grid_search/Brandenburg/quick_n_dirty/median_scores/Borders_MEDIAN_B2_SCORE.tif',\n",
    "         noData=0, d_type=gdal.GDT_Float32)"
   ]
  }
 ],
 "metadata": {
  "kernelspec": {
   "display_name": "workhorse",
   "language": "python",
   "name": "python3"
  },
  "language_info": {
   "codemirror_mode": {
    "name": "ipython",
    "version": 3
   },
   "file_extension": ".py",
   "mimetype": "text/x-python",
   "name": "python",
   "nbconvert_exporter": "python",
   "pygments_lexer": "ipython3",
   "version": "3.12.11"
  }
 },
 "nbformat": 4,
 "nbformat_minor": 5
}
