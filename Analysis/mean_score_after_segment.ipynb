{
 "cells": [
  {
   "cell_type": "code",
   "execution_count": 1,
   "id": "d2b65b0c",
   "metadata": {},
   "outputs": [],
   "source": [
    "import sys\n",
    "sys.path.append('/home/potzschf/repos/')\n",
    "from helperToolz.helpsters import *\n",
    "from helperToolz.dicts_and_lists import *\n",
    "from helperToolz.guzinski import * \n",
    "import geopandas as gpd\n",
    "from collections import defaultdict\n",
    "from joblib import Parallel, delayed\n",
    "from datetime import datetime, timedelta\n",
    "import time"
   ]
  },
  {
   "cell_type": "code",
   "execution_count": 2,
   "id": "1cec96ee",
   "metadata": {},
   "outputs": [],
   "source": [
    "path_b1 = '/data/Aldhani/eoagritwin/fields/output/predictions/FORCE/BRANDENBURG/masked_predictions/256_20_chips_GSA-DE_BRB-2019_cropMask_lines_touch_true_lines_touch_true_linecrop_prediction_extent.tif'\n",
    "path_fields = '/data/Aldhani/eoagritwin/fields/Auxiliary/grid_search/Brandenburg/quick_n_dirty/Fields_as_mask_pixel_10.tif'"
   ]
  },
  {
   "cell_type": "code",
   "execution_count": 3,
   "id": "4c881040",
   "metadata": {},
   "outputs": [
    {
     "name": "stdout",
     "output_type": "stream",
     "text": [
      "29972   26904\n",
      "(4376126.3630416505, 10.0, 0.0, 3404819.6079648044, 0.0, -10.0)\n",
      "29972   26904\n",
      "(4376126.3630416505, 10.0, 0.0, 3404819.6079648044, 0.0, -10.0)\n"
     ]
    },
    {
     "name": "stderr",
     "output_type": "stream",
     "text": [
      "/data/Aldhani/users/potzschf/conda/envs/workhorse/lib/python3.12/site-packages/osgeo/gdal.py:311: FutureWarning: Neither gdal.UseExceptions() nor gdal.DontUseExceptions() has been explicitly called. In GDAL 4.0, exceptions will be enabled by default.\n",
      "  warnings.warn(\n"
     ]
    }
   ],
   "source": [
    "ds_b1 = gdal.Open(path_b1)\n",
    "print(f'{ds_b1.RasterXSize}   {ds_b1.RasterYSize}')\n",
    "print(ds_b1.GetGeoTransform())\n",
    "\n",
    "ds_fields = gdal.Open(path_fields)\n",
    "print(f'{ds_fields.RasterXSize}   {ds_fields.RasterYSize}')\n",
    "print(ds_fields.GetGeoTransform())"
   ]
  },
  {
   "cell_type": "code",
   "execution_count": 4,
   "id": "677109fb",
   "metadata": {},
   "outputs": [],
   "source": [
    "arr_field = ds_fields.GetRasterBand(1).ReadAsArray()\n",
    "arr_b1 = ds_b1.GetRasterBand(1).ReadAsArray()\n",
    "\n",
    "mask = (arr_field != 0) & (~np.isnan(arr_field)) & (~np.isnan(arr_b1))\n",
    "flat_field = arr_field[mask].astype(int)\n",
    "flat_b1 = arr_b1[mask]"
   ]
  },
  {
   "cell_type": "code",
   "execution_count": 5,
   "id": "fe7ad9c8",
   "metadata": {},
   "outputs": [],
   "source": [
    "# Create DataFrame\n",
    "df = pd.DataFrame({'FieldID': flat_field, 'B1': flat_b1})\n",
    "\n",
    "# Compute median per field\n",
    "median_df = df.groupby('FieldID', as_index=False)['B1'].median()\n",
    "median_df.rename(columns={'B1': 'B1_median'}, inplace=True)\n",
    "median_df.to_csv('mean_b1_score_per_field.csv', index=False)"
   ]
  },
  {
   "cell_type": "code",
   "execution_count": 6,
   "id": "ab7c45a7",
   "metadata": {},
   "outputs": [],
   "source": [
    "# Create a lookup map\n",
    "median_map = dict(zip(median_df['FieldID'], median_df['B1_median']))\n",
    "\n",
    "# Fill raster\n",
    "arr_field_fill = np.vectorize(median_map.get)(arr_field)"
   ]
  },
  {
   "cell_type": "code",
   "execution_count": null,
   "id": "e928aaa1",
   "metadata": {},
   "outputs": [],
   "source": [
    "npTOdisk(arr_field_fill, path_fields,\n",
    "         '/data/Aldhani/eoagritwin/fields/Auxiliary/grid_search/Brandenburg/quick_n_dirty/Fields_MEAN_B1_SCORE.tif',\n",
    "         noData=0, d_type=gdal.GDT_Float32)"
   ]
  }
 ],
 "metadata": {
  "kernelspec": {
   "display_name": "workhorse",
   "language": "python",
   "name": "python3"
  },
  "language_info": {
   "codemirror_mode": {
    "name": "ipython",
    "version": 3
   },
   "file_extension": ".py",
   "mimetype": "text/x-python",
   "name": "python",
   "nbconvert_exporter": "python",
   "pygments_lexer": "ipython3",
   "version": "3.12.11"
  }
 },
 "nbformat": 4,
 "nbformat_minor": 5
}
