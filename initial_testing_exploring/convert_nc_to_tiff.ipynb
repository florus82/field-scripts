{
 "cells": [
  {
   "cell_type": "code",
   "execution_count": 19,
   "metadata": {},
   "outputs": [
    {
     "name": "stdout",
     "output_type": "stream",
     "text": [
      "30\n",
      "transform nc to tif\n"
     ]
    }
   ],
   "source": [
    "# import packages \n",
    "import xarray as xr \n",
    "import rioxarray as rio \n",
    "import os\n",
    "import numpy as np\n",
    "workhorse = True\n",
    "\n",
    "if workhorse:\n",
    "    origin = 'Aldhani/eoagritwin/'\n",
    "else:\n",
    "    origin = ''\n",
    "\n",
    "\n",
    "def getFilelist(originpath, ftyp):\n",
    "    files = os.listdir(originpath)\n",
    "    out   = []\n",
    "    for i in files:\n",
    "        if i.split('.')[-1] in ftyp:\n",
    "            if originpath.endswith('/'):\n",
    "                out.append(originpath + i)\n",
    "            else:\n",
    "                out.append(originpath + '/' + i)\n",
    "        # else:\n",
    "        #     print(\"non-matching file - {} - found\".format(i.split('.')[-1]))\n",
    "    return out\n",
    "\n",
    "\n",
    "ncs = getFilelist(f'/data/{origin}et/Landsat/extracts/', '.nc')\n",
    "print(len(ncs))\n",
    "#masks = getFilelist('/home/ai4boundaries/sentinel2/masks/LU', 'tif')\n",
    "\n",
    "ncs.sort()\n",
    "#masks.sort()\n",
    "\n",
    "\n",
    "outFolder = f'/data/{origin}et/Landsat/check/'\n",
    "\n",
    "print('transform nc to tif') \n",
    "for i in range(len(ncs)):\n",
    "    # transform images\n",
    "    nc_file = xr.open_dataset(ncs[i])\n",
    "\n",
    "    # store in path_row folder\n",
    "    outDir = f'{outFolder}{ncs[i].split('/')[-1].split('_')[2]}/'\n",
    "    if not os.path.exists(outDir):\n",
    "        os.makedirs(outDir)\n",
    "\n",
    "    img = nc_file['ETA']\n",
    "    # Set correct spatial dimensions\n",
    "    img = img.rio.set_spatial_dims(x_dim=\"XDim_ETA\", y_dim=\"YDim_ETA\")\n",
    "    img.rio.write_crs('epsg:32633', inplace=True)\n",
    "    img.rio.to_raster(f\"{outDir}/{ncs[i].split('/')[-1].split('.')[0]}.tif\")\n",
    "\n",
    "    # # transform labels\n",
    "    # lb_file = xr.open_dataset(masks[i])\n",
    "    # img = lb_file['band_data']\n",
    "    # img.rio.write_crs('epsg:3035', inplace=True)\n",
    "    # img.rio.to_raster(f\"{outFolder}/label_{ncs[i].split('/')[-1].split('.')[0]}.tif\")\n",
    "    "
   ]
  },
  {
   "cell_type": "code",
   "execution_count": 10,
   "metadata": {},
   "outputs": [
    {
     "data": {
      "text/plain": [
       "'191024'"
      ]
     },
     "execution_count": 10,
     "metadata": {},
     "output_type": "execute_result"
    }
   ],
   "source": [
    "ncs[0].split('/')[-1].split('_')[2]"
   ]
  }
 ],
 "metadata": {
  "kernelspec": {
   "display_name": "workhorse",
   "language": "python",
   "name": "python3"
  },
  "language_info": {
   "codemirror_mode": {
    "name": "ipython",
    "version": 3
   },
   "file_extension": ".py",
   "mimetype": "text/x-python",
   "name": "python",
   "nbconvert_exporter": "python",
   "pygments_lexer": "ipython3",
   "version": "3.12.10"
  }
 },
 "nbformat": 4,
 "nbformat_minor": 2
}
