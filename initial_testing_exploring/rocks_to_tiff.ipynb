{
 "cells": [
  {
   "cell_type": "code",
   "execution_count": 3,
   "metadata": {},
   "outputs": [],
   "source": [
    "# import packages \n",
    "import sys\n",
    "dataFolder = '../../../../data/fields/'\n",
    "sys.path.append(dataFolder)\n",
    "from Auxiliary.helper import *\n",
    "%matplotlib inline\n",
    "from rocksdbutils_copy import *\n",
    "\n",
    "def getFilelist(originpath, ftyp):\n",
    "    files = os.listdir(originpath)\n",
    "    out   = []\n",
    "    for i in files:\n",
    "        if i.split('.')[-1] in ftyp:\n",
    "            if originpath.endswith('/'):\n",
    "                out.append(originpath + i)\n",
    "            else:\n",
    "                out.append(originpath + '/' + i)\n",
    "        # else:\n",
    "        #     print(\"non-matching file - {} - found\".format(i.split('.')[-1]))\n",
    "    return out\n"
   ]
  },
  {
   "cell_type": "code",
   "execution_count": 5,
   "metadata": {},
   "outputs": [
    {
     "name": "stdout",
     "output_type": "stream",
     "text": [
      "b'0'\n",
      "b'inputs'\n"
     ]
    },
    {
     "ename": "ValueError",
     "evalue": "cannot reshape array of size 49152 into shape (4,6,128,128)",
     "output_type": "error",
     "traceback": [
      "\u001b[0;31m---------------------------------------------------------------------------\u001b[0m",
      "\u001b[0;31mValueError\u001b[0m                                Traceback (most recent call last)",
      "Cell \u001b[0;32mIn[5], line 15\u001b[0m\n\u001b[1;32m     12\u001b[0m \u001b[38;5;66;03m# Iterate over data\u001b[39;00m\n\u001b[1;32m     13\u001b[0m \u001b[38;5;28;01mfor\u001b[39;00m idx \u001b[38;5;129;01min\u001b[39;00m \u001b[38;5;28mrange\u001b[39m(\u001b[38;5;28mlen\u001b[39m(reader\u001b[38;5;241m.\u001b[39mkeys)):\n\u001b[1;32m     14\u001b[0m     \u001b[38;5;66;03m# Get inputs and labels (assuming the database contains both)\u001b[39;00m\n\u001b[0;32m---> 15\u001b[0m     data \u001b[38;5;241m=\u001b[39m \u001b[43mreader\u001b[49m\u001b[38;5;241;43m.\u001b[39;49m\u001b[43mget_inputs_labels\u001b[49m\u001b[43m(\u001b[49m\u001b[43midx\u001b[49m\u001b[43m)\u001b[49m  \u001b[38;5;66;03m# This returns a list of arrays for inputs and labels\u001b[39;00m\n\u001b[1;32m     17\u001b[0m     \u001b[38;5;66;03m# Process each column family\u001b[39;00m\n\u001b[1;32m     18\u001b[0m     \u001b[38;5;28;01mfor\u001b[39;00m i, (cf_name, array) \u001b[38;5;129;01min\u001b[39;00m \u001b[38;5;28menumerate\u001b[39m(\u001b[38;5;28mzip\u001b[39m(reader\u001b[38;5;241m.\u001b[39mcf_names, data)):\n",
      "File \u001b[0;32m/home/potzschf/repos/fields/rocksdbutils_copy.py:232\u001b[0m, in \u001b[0;36mRocksDBReader.get_inputs_labels\u001b[0;34m(self, idx)\u001b[0m\n\u001b[1;32m    229\u001b[0m tshape \u001b[38;5;241m=\u001b[39m  \u001b[38;5;28mself\u001b[39m\u001b[38;5;241m.\u001b[39mmeta[cname][\u001b[38;5;124m'\u001b[39m\u001b[38;5;132;01m{}\u001b[39;00m\u001b[38;5;124m_shape\u001b[39m\u001b[38;5;124m'\u001b[39m\u001b[38;5;241m.\u001b[39mformat(cname)]\n\u001b[1;32m    230\u001b[0m \u001b[38;5;28;01mif\u001b[39;00m tshape \u001b[38;5;129;01mis\u001b[39;00m \u001b[38;5;129;01mnot\u001b[39;00m \u001b[38;5;28;01mNone\u001b[39;00m:\n\u001b[1;32m    231\u001b[0m     \u001b[38;5;66;03m# print(np.frombuffer(tinputs, dtype= self.meta[cname]['{}_dtype'.format(cname)]).shape)\u001b[39;00m\n\u001b[0;32m--> 232\u001b[0m     tinputs \u001b[38;5;241m=\u001b[39m \u001b[43mnp\u001b[49m\u001b[38;5;241;43m.\u001b[39;49m\u001b[43mfrombuffer\u001b[49m\u001b[43m(\u001b[49m\u001b[43mtinputs\u001b[49m\u001b[43m,\u001b[49m\u001b[43m \u001b[49m\u001b[43mdtype\u001b[49m\u001b[38;5;241;43m=\u001b[39;49m\u001b[43m \u001b[49m\u001b[38;5;28;43mself\u001b[39;49m\u001b[38;5;241;43m.\u001b[39;49m\u001b[43mmeta\u001b[49m\u001b[43m[\u001b[49m\u001b[43mcname\u001b[49m\u001b[43m]\u001b[49m\u001b[43m[\u001b[49m\u001b[38;5;124;43m'\u001b[39;49m\u001b[38;5;132;43;01m{}\u001b[39;49;00m\u001b[38;5;124;43m_dtype\u001b[39;49m\u001b[38;5;124;43m'\u001b[39;49m\u001b[38;5;241;43m.\u001b[39;49m\u001b[43mformat\u001b[49m\u001b[43m(\u001b[49m\u001b[43mcname\u001b[49m\u001b[43m)\u001b[49m\u001b[43m]\u001b[49m\u001b[43m)\u001b[49m\u001b[38;5;241;43m.\u001b[39;49m\u001b[43mreshape\u001b[49m\u001b[43m(\u001b[49m\u001b[38;5;241;43m*\u001b[39;49m\u001b[43mtshape\u001b[49m\u001b[43m)\u001b[49m\n\u001b[1;32m    234\u001b[0m \u001b[38;5;28;01melse\u001b[39;00m:\n\u001b[1;32m    235\u001b[0m     tinputs \u001b[38;5;241m=\u001b[39m np\u001b[38;5;241m.\u001b[39mfrombuffer(tinputs, dtype\u001b[38;5;241m=\u001b[39m \u001b[38;5;28mself\u001b[39m\u001b[38;5;241m.\u001b[39mmeta[cname][\u001b[38;5;124m'\u001b[39m\u001b[38;5;132;01m{}\u001b[39;00m\u001b[38;5;124m_dtype\u001b[39m\u001b[38;5;124m'\u001b[39m\u001b[38;5;241m.\u001b[39mformat(cname)])\n",
      "\u001b[0;31mValueError\u001b[0m: cannot reshape array of size 49152 into shape (4,6,128,128)"
     ]
    }
   ],
   "source": [
    "# Set up export directory\n",
    "export_dir = dataFolder + \"output/nc_to_tif\"\n",
    "origins = getFilelist(dataFolder + \"ai4boundaries/sentinel2/masks/LU\" , 'tif')\n",
    "origins.sort()\n",
    "\n",
    "for modi in ['train', 'valid']:\n",
    "    db_path = dataFolder + 'output/rocks_db/FORCE.db/' + modi + '.db'\n",
    "        \n",
    "    # Initialize RocksDBReader\n",
    "    reader = RocksDBReader(flname_db=db_path)\n",
    "  \n",
    "    # Iterate over data\n",
    "    for idx in range(len(reader.keys)):\n",
    "        # Get inputs and labels (assuming the database contains both)\n",
    "        data = reader.get_inputs_labels(idx)  # This returns a list of arrays for inputs and labels\n",
    "\n",
    "        # Process each column family\n",
    "        for i, (cf_name, array) in enumerate(zip(reader.cf_names, data)):\n",
    "\n",
    "            cf_name_str = cf_name.decode('utf-8')  # Convert bytes to string for readable file names\n",
    "            print(f\"cf name is: {cf_name_str} and shape is: {array.shape}\")\n",
    "        \n",
    "            if cf_name_str == 'inputs':\n",
    "                # Export to TIFF\n",
    "                for t_idx in range(array.shape[0]):\n",
    "                    out_file = f\"{export_dir}/{cf_name_str}_image_{idx}_{modi}_{t_idx}.tif\"\n",
    "                    \n",
    "                    with rasterio.open(\n",
    "                        out_file,\n",
    "                        \"w\",\n",
    "                        driver=\"GTiff\",\n",
    "                        height=array.shape[2],\n",
    "                        width=array.shape[3],\n",
    "                        count=array.shape[1],\n",
    "                        dtype=array.dtype,\n",
    "                        crs=rasterio.open(origins[0]).crs,\n",
    "                        transform=rasterio.open(origins[0]).transform,\n",
    "                        ) as dst:\n",
    "                                for r_idx in range(array.shape[1]):\n",
    "                                    dst.write(array[t_idx, r_idx, :, :], r_idx + 1)\n",
    "\n",
    "                    print(f\"Exported {cf_name_str} index {idx} to {out_file}\")\n",
    "    \n",
    "            else:\n",
    "                 # Export to TIFF\n",
    "                out_file = f\"{export_dir}/{cf_name_str}_image_{idx}_{modi}.tif\"\n",
    "                \n",
    "                with rasterio.open(\n",
    "                    out_file,\n",
    "                    \"w\",\n",
    "                    driver=\"GTiff\",\n",
    "                    height=array.shape[1],\n",
    "                    width=array.shape[2],\n",
    "                    count=array.shape[0],\n",
    "                    dtype=array.dtype,\n",
    "                    crs=rasterio.open(origins[0]).crs,\n",
    "                    transform=rasterio.open(origins[0]).transform,\n",
    "                    ) as dst:\n",
    "                            for r_idx in range(array.shape[0]):\n",
    "                                dst.write(array[r_idx, :, :], r_idx + 1)\n",
    "\n",
    "                print(f\"Exported {cf_name_str} index {idx} to {out_file}\")\n",
    "                print(array.shape)\n",
    "        if idx == 50:\n",
    "            break\n"
   ]
  }
 ],
 "metadata": {
  "kernelspec": {
   "display_name": "Python 3",
   "language": "python",
   "name": "python3"
  },
  "language_info": {
   "codemirror_mode": {
    "name": "ipython",
    "version": 3
   },
   "file_extension": ".py",
   "mimetype": "text/x-python",
   "name": "python",
   "nbconvert_exporter": "python",
   "pygments_lexer": "ipython3",
   "version": "3.10.12"
  }
 },
 "nbformat": 4,
 "nbformat_minor": 2
}
