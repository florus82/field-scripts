{
 "cells": [
  {
   "cell_type": "code",
   "execution_count": 2,
   "metadata": {},
   "outputs": [
    {
     "name": "stdout",
     "output_type": "stream",
     "text": [
      "Shapes: (2, 3) (2, 3)\n",
      "Equal: True\n",
      "Allclose: True\n",
      "Difference: 0\n"
     ]
    }
   ],
   "source": [
    "import numpy as np\n",
    "\n",
    "# Create a known array: shape (5, 5, 2)\n",
    "arr = np.arange(5 * 5 * 2).reshape(5, 5, 2)\n",
    "\n",
    "# Create matching 1D index arrays\n",
    "ind_rows = np.array([0, 1, 2])\n",
    "ind_cols = np.array([4, 3, 2])\n",
    "\n",
    "# Method 1\n",
    "sub_arr = arr[ind_rows, ind_cols, :].T\n",
    "\n",
    "# Method 2\n",
    "sub_arr2 = arr[ind_rows, ind_cols, :]\n",
    "sub_arr2 = sub_arr2.T\n",
    "\n",
    "# Compare\n",
    "print(\"Shapes:\", sub_arr.shape, sub_arr2.shape)\n",
    "print(\"Equal:\", np.array_equal(sub_arr, sub_arr2))\n",
    "print(\"Allclose:\", np.allclose(sub_arr, sub_arr2))\n",
    "print(\"Difference:\", np.max(np.abs(sub_arr - sub_arr2)))\n",
    "\n",
    "\n"
   ]
  }
 ],
 "metadata": {
  "kernelspec": {
   "display_name": "workhorse",
   "language": "python",
   "name": "python3"
  },
  "language_info": {
   "codemirror_mode": {
    "name": "ipython",
    "version": 3
   },
   "file_extension": ".py",
   "mimetype": "text/x-python",
   "name": "python",
   "nbconvert_exporter": "python",
   "pygments_lexer": "ipython3",
   "version": "3.12.10"
  }
 },
 "nbformat": 4,
 "nbformat_minor": 2
}
