{
 "cells": [
  {
   "cell_type": "code",
   "execution_count": null,
   "metadata": {},
   "outputs": [],
   "source": [
    "import sys\n",
    "dataFolder = '../../../../data/fields/'\n",
    "sys.path.append(dataFolder)\n",
    "from Auxiliary.helper import *"
   ]
  },
  {
   "cell_type": "code",
   "execution_count": null,
   "metadata": {},
   "outputs": [],
   "source": [
    "os.chdir('../../../../data/')\n",
    "img_lab_path = ['fields/Auxiliary/vrt/Force_X_from_68_to_69_Y_from_42_to_42_Cube.vrt']\n",
    "## define function to load vrt\n",
    "def loadVRTintoNumpy(vrtPath):\n",
    "    ds = gdal.Open(vrtPath)\n",
    "    bandNumber = ds.RasterCount\n",
    "    bands = []\n",
    "    for i in range(bandNumber):\n",
    "        bands.append(ds.GetRasterBand(i+1).ReadAsArray())\n",
    "    cube = np.dstack(bands)\n",
    "    data_cube = np.transpose(cube, (2, 0, 1))\n",
    "    reshaped_cube = data_cube.reshape(4, 6, 3000, 6000)\n",
    "    return reshaped_cube\n"
   ]
  },
  {
   "cell_type": "code",
   "execution_count": null,
   "metadata": {},
   "outputs": [],
   "source": [
    "# define the model (.pth) and assess loss curves\n",
    "model_name = dataFolder + 'output/models/model_state_All_but_LU_transformed_42.pth'\n",
    "model_name_short = model_name.split('/')[-1].split('.')[0]\n",
    "local_rank = 0\n",
    "# torch.cuda.set_device(local_rank)\n",
    "# torch.manual_seed(0)\n",
    "\n",
    "NClasses = 1\n",
    "nf = 96\n",
    "verbose = True\n",
    "model_config = {'in_channels': 4,\n",
    "                'spatial_size_init': (128, 128),\n",
    "                'depths': [2, 2, 5, 2],\n",
    "                'nfilters_init': nf,\n",
    "                'nheads_start': nf // 4,\n",
    "                'NClasses': NClasses,\n",
    "                'verbose': verbose,\n",
    "                'segm_act': 'sigmoid'}\n",
    "\n",
    "device = torch.device('cuda:0' if torch.cuda.is_available() else 'cpu')\n",
    "\n",
    "if torch.cuda.is_available():\n",
    "    modeli = ptavit3d_dn(**model_config).to(device)\n",
    "    modeli.load_state_dict(torch.load(model_name))\n",
    "    model = modeli.to(device) # Set model to gpu\n",
    "    model.eval()\n",
    "    \n",
    "# else:\n",
    "#     torch.set_num_threads(40)\n",
    "#     model = ptavit3d_dn(**model_config).to(device)\n",
    "#     model.load_state_dict(torch.load(model_name, map_location=torch.device(\"cpu\")))  \n",
    "#     model.eval()\n",
    "\n",
    "\n",
    "vdata = RocksDBDataset(dataFolder + 'output/rocks_db/FORCE.db/train.db', transform=TrainingTransform_for_rocks_Valid)\n",
    "\n",
    "#vdata = VALIDataset()\n",
    "preds = []\n",
    "\n",
    "valid_loader = DataLoader(dataset=vdata, batch_size=1, shuffle=False, num_workers=0, pin_memory=True)\n",
    "\n",
    "trg =  sorted(glob.glob(os.path.join(dataFolder + 'ai4boundaries/sentinel2/masks/' + 'LU' + '/*.tif')))\n",
    "\n",
    "for i, (image, label) in enumerate(valid_loader):\n",
    "    print(image.shape)\n",
    "    print(type(image))\n",
    "    \n",
    "    if torch.cuda.is_available():\n",
    "        with torch.no_grad():\n",
    "            pred = model(image.cuda())\n",
    "            preds.append(pred.detach().cpu().numpy())\n",
    "    else:\n",
    "        image = image.to(device)  # Move image to the correct device\n",
    "        with torch.no_grad():\n",
    "            pred = model(image)\n",
    "            preds.append(pred.detach().cpu().numpy())"
   ]
  }
 ],
 "metadata": {
  "language_info": {
   "name": "python"
  }
 },
 "nbformat": 4,
 "nbformat_minor": 2
}
