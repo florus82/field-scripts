{
 "cells": [
  {
   "cell_type": "code",
   "execution_count": 1,
   "metadata": {},
   "outputs": [
    {
     "name": "stderr",
     "output_type": "stream",
     "text": [
      "INFO:albumentations.check_version:A new version of Albumentations is available: 2.0.5 (you have 1.4.13). Upgrade using: pip install -U albumentations. To disable automatic update checks, set the environment variable NO_ALBUMENTATIONS_UPDATE to 1.\n"
     ]
    }
   ],
   "source": [
    "import sys\n",
    "dataFolder = '../../../../data/fields/'\n",
    "sys.path.append(dataFolder)\n",
    "from Auxiliary.helper import *"
   ]
  },
  {
   "cell_type": "code",
   "execution_count": 2,
   "metadata": {},
   "outputs": [],
   "source": [
    "os.chdir('../../../../data/')\n",
    "img_lab_path = 'fields/Auxiliary/vrt/Force_X_from_68_to_69_Y_from_42_to_42_Cube.vrt'\n",
    "## define function to load vrt\n",
    "def loadVRTintoNumpyAI4(vrtPath):\n",
    "    ds = gdal.Open(vrtPath)\n",
    "    bandNumber = ds.RasterCount\n",
    "    bands = []\n",
    "    for i in range(bandNumber):\n",
    "        bands.append(ds.GetRasterBand(i+1).ReadAsArray())\n",
    "    cube = np.dstack(bands)\n",
    "    data_cube = np.transpose(cube, (2, 0, 1))\n",
    "    reshaped_cube = data_cube.reshape(4, 6, 3000, 6000)\n",
    "    return reshaped_cube\n",
    "\n",
    "def getGeoTFandProj(vrtPath):\n",
    "    ds = gdal.Open(vrtPath)\n",
    "    return ds.GetGeoTransform(), ds.GetProjection()\n",
    "\n"
   ]
  },
  {
   "cell_type": "code",
   "execution_count": 3,
   "metadata": {},
   "outputs": [],
   "source": [
    "dat = loadVRTintoNumpyAI4(img_lab_path)\n",
    "\n",
    "chipsize = 128*4\n",
    "overlap  = 20\n",
    "rows, cols = dat.shape[2:]\n",
    "\n",
    "row_start = [i for i in range(0, rows, chipsize - overlap)]\n",
    "row_end = [i for i in range (chipsize, rows, chipsize - overlap)]\n",
    "row_start = row_start[:len(row_end)] \n",
    "\n",
    "col_start = [i for i in range(0, cols, chipsize - overlap)]\n",
    "col_end = [i for i in range (chipsize, cols, chipsize - overlap)] \n",
    "col_start = col_start[:len(col_end)]"
   ]
  },
  {
   "cell_type": "code",
   "execution_count": 31,
   "metadata": {},
   "outputs": [
    {
     "name": "stdout",
     "output_type": "stream",
     "text": [
      " @@@@@@@@@@@@@ Going DOWN @@@@@@@@@@@@@@@@@@@ \n",
      "depth:= 0, layer_dim_in: 96, layer_dim: 96, stage_depth::2, spatial_size::(32, 32), scales::[16, 8, 8]\n",
      "depth:= 1, layer_dim_in: 96, layer_dim: 192, stage_depth::2, spatial_size::(16, 16), scales::[32, 4, 4]\n",
      "depth:= 2, layer_dim_in: 192, layer_dim: 384, stage_depth::5, spatial_size::(8, 8), scales::[64, 2, 2]\n",
      "depth:= 3, layer_dim_in: 384, layer_dim: 768, stage_depth::2, spatial_size::(4, 4), scales::[128, 1, 1]\n",
      " XXXXXXXXXXXXXXXXXXXXX Coming up XXXXXXXXXXXXXXXXXXXXXXXXX \n",
      "depth:= 4, layer_dim_in: 384, layer_dim: 384, stage_depth::5, spatial_size::(8, 8), scales::[64, 2, 2]\n",
      "depth:= 5, layer_dim_in: 192, layer_dim: 192, stage_depth::2, spatial_size::(16, 16), scales::[32, 4, 4]\n",
      "depth:= 6, layer_dim_in: 96, layer_dim: 96, stage_depth::2, spatial_size::(32, 32), scales::[16, 8, 8]\n"
     ]
    }
   ],
   "source": [
    "# define the model (.pth) and assess loss curves\n",
    "model_name = dataFolder + 'output/models/model_state_All_but_LU_transformed_42.pth'\n",
    "model_name_short = model_name.split('/')[-1].split('.')[0]\n",
    "local_rank = 0\n",
    "# torch.cuda.set_device(local_rank)\n",
    "# torch.manual_seed(0)\n",
    "\n",
    "NClasses = 1\n",
    "nf = 96\n",
    "verbose = True\n",
    "model_config = {'in_channels': 4,\n",
    "                'spatial_size_init': (128, 128),\n",
    "                'depths': [2, 2, 5, 2],\n",
    "                'nfilters_init': nf,\n",
    "                'nheads_start': nf // 4,\n",
    "                'NClasses': NClasses,\n",
    "                'verbose': verbose,\n",
    "                'segm_act': 'sigmoid'}\n",
    "\n",
    "device = torch.device('cuda:0' if torch.cuda.is_available() else 'cpu')\n",
    "\n",
    "if torch.cuda.is_available():\n",
    "    modeli = ptavit3d_dn(**model_config).to(device)\n",
    "    modeli.load_state_dict(torch.load(model_name))\n",
    "    model = modeli.to(device) # Set model to gpu\n",
    "    model.eval()\n",
    "    \n",
    "preds = []\n",
    "\n",
    "for i in range(len(row_end)):\n",
    "    for j in range(len(col_end)):\n",
    "    \n",
    "        image = torch.tensor(dat[np.newaxis, :, :, row_start[i]:row_end[i], col_start[j]:col_end[j]])\n",
    "        image = image.to(torch.float)\n",
    "        image = image.to(device)  # Move image to the correct device\n",
    "    \n",
    "        with torch.no_grad():\n",
    "            pred = model(image)\n",
    "            preds.append(pred.detach().cpu().numpy())\n",
    "            \n",
    "torch.cuda.empty_cache()\n",
    "del model\n",
    "del modeli\n",
    "del device\n",
    "del image"
   ]
  },
  {
   "cell_type": "code",
   "execution_count": 37,
   "metadata": {},
   "outputs": [],
   "source": [
    "outFolder = dataFolder + 'output/predictions/FORCE/'\n",
    "gtiff_driver = gdal.GetDriverByName('GTiff')\n",
    "geoTF, geoPr = getGeoTFandProj(img_lab_path)\n",
    "filenames = [f'X_{col_start[j]}_Y_{row_start[i]}.tif' for i in range(len(row_start)) for j in range(len(col_start))]\n",
    "\n",
    "# load mask\n",
    "ds = gdal.Open(dataFolder + 'IACS/Auxiliary/GSA-DE_BRB-2019_agromask.tif')\n",
    "mask = ds.GetRasterBand(1).ReadAsArray()\n",
    "\n",
    "for i, file in enumerate(filenames):\n",
    "    for j in ['chips/', 'masked_chips/']:\n",
    "        out_ds = gtiff_driver.Create(outFolder + j + file, int(chipsize - overlap), int(chipsize - overlap), 3, gdal.GDT_Float32)\n",
    "        # change the Geotransform for each chip\n",
    "        geotf = list(geoTF)\n",
    "        # get column and rows from filenames\n",
    "        geotf[0] = geotf[0] + geotf[1] * (int(file.split('X_')[-1].split('_')[0]) + overlap/2)\n",
    "        geotf[3] = geotf[3] + geotf[5] * (int(file.split('Y_')[-1].split('.')[0]) + overlap/2)\n",
    "        #print(f'X:{geoTF[0]}  Y:{geoTF[3]}  AT {file}')\n",
    "        out_ds.SetGeoTransform(tuple(geotf))\n",
    "        out_ds.SetProjection(geoPr)\n",
    "\n",
    "        arr = preds[i][0].transpose(1, 2, 0)\n",
    "        if j == 'masked_chips/':\n",
    "            maskSub = mask[int(int(file.split('Y_')[-1].split('.')[0]) + overlap/2):chipsize + int(int(file.split('Y_')[-1].split('.')[0]) - overlap/2), \n",
    "                           int(int(file.split('X_')[-1].split('_')[0]) + overlap/2):chipsize + int(int(file.split('X_')[-1].split('_')[0]) - overlap/2)]\n",
    "            for band in range(3):                \n",
    "                out_ds.GetRasterBand(band + 1).WriteArray(arr[int(overlap/2): -int(overlap/2), int(overlap/2): -int(overlap/2), band] * maskSub)\n",
    "            del out_ds\n",
    "        else:\n",
    "            for band in range(3):\n",
    "                out_ds.GetRasterBand(band + 1).WriteArray(arr[int(overlap/2): -int(overlap/2), int(overlap/2): -int(overlap/2), band])\n",
    "            del out_ds\n"
   ]
  }
 ],
 "metadata": {
  "kernelspec": {
   "display_name": "Python 3",
   "language": "python",
   "name": "python3"
  },
  "language_info": {
   "codemirror_mode": {
    "name": "ipython",
    "version": 3
   },
   "file_extension": ".py",
   "mimetype": "text/x-python",
   "name": "python",
   "nbconvert_exporter": "python",
   "pygments_lexer": "ipython3",
   "version": "3.10.12"
  }
 },
 "nbformat": 4,
 "nbformat_minor": 2
}
